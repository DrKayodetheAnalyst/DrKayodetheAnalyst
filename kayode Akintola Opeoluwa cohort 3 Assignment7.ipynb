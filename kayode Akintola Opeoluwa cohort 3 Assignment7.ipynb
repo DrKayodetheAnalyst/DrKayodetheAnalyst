{
 "cells": [
  {
   "cell_type": "markdown",
   "id": "20c60966-5e0b-407b-93be-79650f965d7f",
   "metadata": {},
   "source": [
    "## **Assignment - Week 6**\n",
    "**Instructions:**\n",
    "- Answer each question on a separate cell, inidcating the question first in a markdown cell before giving the answer either in a markdown or code cell depending on the question.\n",
    "- Use comments in your code\n",
    "- Give titles to all your charts and give x and y labels where necessary\n",
    "- Use the ggplot style for your charts"
   ]
  },
  {
   "cell_type": "markdown",
   "id": "5cc2c10b-f9e9-4c4f-8fa1-b9aeff338625",
   "metadata": {},
   "source": [
    "You are provided with a retail transaction dataset contaning customer transaction data.\n",
    "\n",
    "You are expected to use the dataset to answer the following questions:\n",
    "1. Get the number of records and variables contained in the dataset and convert all columns to lower case.\n",
    "2. Is there any null value or duplicate record present?\n",
    "3. What is the new dataframe shape after dropping null and duplicate if present?\n",
    "4. Create a new dataframe containing just the numerical variables and access the relationship between the variables.\n",
    "5. You have a transaction date variable, convert it to a datetime variable and extract the month names and day names into two new columns\n",
    "6. Check for any outlier in the price column and remove any value that is greater than 300.\n",
    "7. Plot a scatter plot graph to access tha relationship between price and discount, give the graph a title and make the color green\n",
    "8. For the new months column you created, plot a line chart showing the total quantity for each month. Use a figure size of 8x5.\n",
    "9. Also for the days column you created, plot a bar chart showing the average price for each day\n",
    "10. Which of the product category has the highest quantity sold? represent it in a pie chart. Use a figure size of 7x7"
   ]
  },
  {
   "cell_type": "code",
   "execution_count": 6,
   "id": "2512dcd8-ba2d-4c9d-916f-cd0ca6683e53",
   "metadata": {},
   "outputs": [
    {
     "name": "stdout",
     "output_type": "stream",
     "text": [
      "      CustomerID ProductID  Quantity   Price  TransactionDate PaymentMethod  \\\n",
      "0            169         B       7.0   76.15  1/31/2024 10:50          Cash   \n",
      "1            213         C       4.0   85.59  6/26/2023 21:13   Credit Card   \n",
      "2            315         C       4.0   94.33  8/18/2023 07:01          Cash   \n",
      "3            442         B       6.0   81.00  8/30/2023 03:37    Debit Card   \n",
      "4            587         B       1.0   45.68  9/14/2023 23:34   Credit Card   \n",
      "...          ...       ...       ...     ...              ...           ...   \n",
      "1162      298695         B       1.0  103.24  6/12/2023 15:01        PayPal   \n",
      "1163      298721         A       8.0   43.87  7/21/2023 01:17        PayPal   \n",
      "1164      298832         B       6.0   57.36  6/22/2023 23:33    Debit Card   \n",
      "1165      298848         D       7.0   82.33  6/25/2023 01:30   Credit Card   \n",
      "1166      299118         C       7.0   12.56   6/3/2023 02:32   Credit Card   \n",
      "\n",
      "     ProductCategory  DiscountApplied(%)  \n",
      "0           Clothing                14.2  \n",
      "1         Home Decor                 0.5  \n",
      "2        Electronics                20.0  \n",
      "3         Home Decor                16.0  \n",
      "4         Home Decor                10.3  \n",
      "...              ...                 ...  \n",
      "1162     Electronics                 7.9  \n",
      "1163           Books                 1.3  \n",
      "1164           Books                17.1  \n",
      "1165      Home Decor                 0.8  \n",
      "1166           Books                 3.6  \n",
      "\n",
      "[1167 rows x 8 columns]\n"
     ]
    }
   ],
   "source": [
    "#to import Library and dataset with ggplot style to be used for the chart\n",
    "#the dataset provided is retail transaction dataset\n",
    "import pandas as pd\n",
    "import numpy as np\n",
    "import matplotlib.pyplot as plt\n",
    "from matplotlib import style\n",
    "style.use(\"ggplot\")\n",
    "fileName = \"C:/Users/DR KAY/Desktop/retail_transaction.csv\"\n",
    "df = pd.read_csv(fileName)\n",
    "print(df)"
   ]
  },
  {
   "cell_type": "code",
   "execution_count": 11,
   "id": "7c1be973-ce48-4256-a952-8b2ffd46ee55",
   "metadata": {},
   "outputs": [
    {
     "name": "stdout",
     "output_type": "stream",
     "text": [
      "<class 'pandas.core.frame.DataFrame'>\n",
      "RangeIndex: 1167 entries, 0 to 1166\n",
      "Data columns (total 8 columns):\n",
      " #   Column              Non-Null Count  Dtype  \n",
      "---  ------              --------------  -----  \n",
      " 0   CustomerID          1167 non-null   int64  \n",
      " 1   ProductID           1163 non-null   object \n",
      " 2   Quantity            1165 non-null   float64\n",
      " 3   Price               1155 non-null   float64\n",
      " 4   TransactionDate     1167 non-null   object \n",
      " 5   PaymentMethod       1162 non-null   object \n",
      " 6   ProductCategory     1163 non-null   object \n",
      " 7   DiscountApplied(%)  1162 non-null   float64\n",
      "dtypes: float64(3), int64(1), object(4)\n",
      "memory usage: 73.1+ KB\n"
     ]
    }
   ],
   "source": [
    "df.head()\n",
    "df.tail()\n",
    "df.describe()\n",
    "df.info()"
   ]
  },
  {
   "cell_type": "code",
   "execution_count": 13,
   "id": "3eb9c07c-a80e-457d-8868-1e55ad312496",
   "metadata": {},
   "outputs": [
    {
     "data": {
      "text/html": [
       "<div>\n",
       "<style scoped>\n",
       "    .dataframe tbody tr th:only-of-type {\n",
       "        vertical-align: middle;\n",
       "    }\n",
       "\n",
       "    .dataframe tbody tr th {\n",
       "        vertical-align: top;\n",
       "    }\n",
       "\n",
       "    .dataframe thead th {\n",
       "        text-align: right;\n",
       "    }\n",
       "</style>\n",
       "<table border=\"1\" class=\"dataframe\">\n",
       "  <thead>\n",
       "    <tr style=\"text-align: right;\">\n",
       "      <th></th>\n",
       "      <th>CustomerID</th>\n",
       "      <th>Quantity</th>\n",
       "      <th>Price</th>\n",
       "      <th>DiscountApplied(%)</th>\n",
       "    </tr>\n",
       "  </thead>\n",
       "  <tbody>\n",
       "    <tr>\n",
       "      <th>count</th>\n",
       "      <td>1167.000000</td>\n",
       "      <td>1165.000000</td>\n",
       "      <td>1155.000000</td>\n",
       "      <td>1162.000000</td>\n",
       "    </tr>\n",
       "    <tr>\n",
       "      <th>mean</th>\n",
       "      <td>151016.089117</td>\n",
       "      <td>5.047210</td>\n",
       "      <td>95.031688</td>\n",
       "      <td>11.835026</td>\n",
       "    </tr>\n",
       "    <tr>\n",
       "      <th>std</th>\n",
       "      <td>90875.123699</td>\n",
       "      <td>2.591687</td>\n",
       "      <td>572.019909</td>\n",
       "      <td>6.281441</td>\n",
       "    </tr>\n",
       "    <tr>\n",
       "      <th>min</th>\n",
       "      <td>169.000000</td>\n",
       "      <td>1.000000</td>\n",
       "      <td>2.820000</td>\n",
       "      <td>0.000000</td>\n",
       "    </tr>\n",
       "    <tr>\n",
       "      <th>25%</th>\n",
       "      <td>70726.000000</td>\n",
       "      <td>3.000000</td>\n",
       "      <td>43.945000</td>\n",
       "      <td>6.700000</td>\n",
       "    </tr>\n",
       "    <tr>\n",
       "      <th>50%</th>\n",
       "      <td>148717.000000</td>\n",
       "      <td>5.000000</td>\n",
       "      <td>71.920000</td>\n",
       "      <td>12.200000</td>\n",
       "    </tr>\n",
       "    <tr>\n",
       "      <th>75%</th>\n",
       "      <td>232307.500000</td>\n",
       "      <td>7.000000</td>\n",
       "      <td>94.950000</td>\n",
       "      <td>16.800000</td>\n",
       "    </tr>\n",
       "    <tr>\n",
       "      <th>max</th>\n",
       "      <td>299118.000000</td>\n",
       "      <td>9.000000</td>\n",
       "      <td>17834.000000</td>\n",
       "      <td>24.900000</td>\n",
       "    </tr>\n",
       "  </tbody>\n",
       "</table>\n",
       "</div>"
      ],
      "text/plain": [
       "          CustomerID     Quantity         Price  DiscountApplied(%)\n",
       "count    1167.000000  1165.000000   1155.000000         1162.000000\n",
       "mean   151016.089117     5.047210     95.031688           11.835026\n",
       "std     90875.123699     2.591687    572.019909            6.281441\n",
       "min       169.000000     1.000000      2.820000            0.000000\n",
       "25%     70726.000000     3.000000     43.945000            6.700000\n",
       "50%    148717.000000     5.000000     71.920000           12.200000\n",
       "75%    232307.500000     7.000000     94.950000           16.800000\n",
       "max    299118.000000     9.000000  17834.000000           24.900000"
      ]
     },
     "execution_count": 13,
     "metadata": {},
     "output_type": "execute_result"
    }
   ],
   "source": [
    "df.describe()"
   ]
  },
  {
   "cell_type": "markdown",
   "id": "e07e0a9c-3e6b-41b2-b950-6ed007fda684",
   "metadata": {},
   "source": [
    "1.##### **1. Get the number of records and variables contained in the dataset and convert all columns to lower case.** #####"
   ]
  },
  {
   "cell_type": "code",
   "execution_count": 102,
   "id": "4978b14c-d1f8-4de1-817c-35329c88ad9d",
   "metadata": {},
   "outputs": [
    {
     "data": {
      "text/plain": [
       "(1133, 10)"
      ]
     },
     "metadata": {},
     "output_type": "display_data"
    },
    {
     "name": "stdout",
     "output_type": "stream",
     "text": [
      "The number of rows or records are 1133 and the number of columns or variables are 10\n"
     ]
    }
   ],
   "source": [
    "#to get the number of rows and columns\n",
    "shape = df.shape\n",
    "display(shape)\n",
    "print(f\"The number of rows or records are {shape[0]} and the number of columns or variables are {shape[1]}\")\n"
   ]
  },
  {
   "cell_type": "code",
   "execution_count": 21,
   "id": "ff290625-ccdb-4495-aa46-26e325c969bd",
   "metadata": {},
   "outputs": [
    {
     "data": {
      "text/plain": [
       "Index(['customerid', 'productid', 'quantity', 'price', 'transactiondate',\n",
       "       'paymentmethod', 'productcategory', 'discountapplied(%)'],\n",
       "      dtype='object')"
      ]
     },
     "metadata": {},
     "output_type": "display_data"
    },
    {
     "data": {
      "text/plain": [
       "Index(['customerid', 'productid', 'quantity', 'price', 'transactiondate',\n",
       "       'paymentmethod', 'productcategory', 'discountapplied(%)'],\n",
       "      dtype='object')"
      ]
     },
     "execution_count": 21,
     "metadata": {},
     "output_type": "execute_result"
    }
   ],
   "source": [
    "#to check the format of the columns if they are already in lowerCase or they are in uppercase\n",
    "df.columns\n",
    "\n",
    "#To convert into lowercase\n",
    "x = df.columns.str.lower()\n",
    "display(x)\n",
    "\n",
    "#to reassign the lowercase column header into df.columns\n",
    "df.columns = x\n",
    "df.columns"
   ]
  },
  {
   "cell_type": "markdown",
   "id": "a066aed6-0275-418b-8f9b-260748535ec8",
   "metadata": {},
   "source": [
    "##### **2. Is there any null value or duplicate record present?** #####"
   ]
  },
  {
   "cell_type": "code",
   "execution_count": 23,
   "id": "b4ca8570-3be8-4392-b009-ccf20df74643",
   "metadata": {},
   "outputs": [
    {
     "data": {
      "text/plain": [
       "True"
      ]
     },
     "execution_count": 23,
     "metadata": {},
     "output_type": "execute_result"
    }
   ],
   "source": [
    "#To check for null values\n",
    "df.isna().any().any()"
   ]
  },
  {
   "cell_type": "code",
   "execution_count": 25,
   "id": "7ef343fc-9601-4110-b987-0e67936ceb6d",
   "metadata": {},
   "outputs": [
    {
     "data": {
      "text/plain": [
       "customerid             0\n",
       "productid              4\n",
       "quantity               2\n",
       "price                 12\n",
       "transactiondate        0\n",
       "paymentmethod          5\n",
       "productcategory        4\n",
       "discountapplied(%)     5\n",
       "dtype: int64"
      ]
     },
     "execution_count": 25,
     "metadata": {},
     "output_type": "execute_result"
    }
   ],
   "source": [
    "#to check the columns that have null values\n",
    "df.isna().sum()"
   ]
  },
  {
   "cell_type": "code",
   "execution_count": 27,
   "id": "3975a9ac-f962-4a97-8e69-b55c63c2d2a2",
   "metadata": {},
   "outputs": [
    {
     "data": {
      "text/plain": [
       "True"
      ]
     },
     "execution_count": 27,
     "metadata": {},
     "output_type": "execute_result"
    }
   ],
   "source": [
    "#to check for duplicate records\n",
    "df.duplicated().any()"
   ]
  },
  {
   "cell_type": "code",
   "execution_count": 29,
   "id": "664a0fea-a2f9-41c1-a276-a395d149087d",
   "metadata": {},
   "outputs": [
    {
     "data": {
      "text/plain": [
       "2"
      ]
     },
     "execution_count": 29,
     "metadata": {},
     "output_type": "execute_result"
    }
   ],
   "source": [
    "#To check the total duplicated values\n",
    "df.duplicated().sum()"
   ]
  },
  {
   "cell_type": "markdown",
   "id": "efba3262-1648-44e3-98a2-b8a9599bdd87",
   "metadata": {},
   "source": [
    "#### **3. What is the new dataframe shape after dropping null and duplicate if present?** ####"
   ]
  },
  {
   "cell_type": "code",
   "execution_count": 31,
   "id": "2cd15be2-bbd5-474d-b411-c52bb4fe433d",
   "metadata": {},
   "outputs": [
    {
     "data": {
      "text/html": [
       "<div>\n",
       "<style scoped>\n",
       "    .dataframe tbody tr th:only-of-type {\n",
       "        vertical-align: middle;\n",
       "    }\n",
       "\n",
       "    .dataframe tbody tr th {\n",
       "        vertical-align: top;\n",
       "    }\n",
       "\n",
       "    .dataframe thead th {\n",
       "        text-align: right;\n",
       "    }\n",
       "</style>\n",
       "<table border=\"1\" class=\"dataframe\">\n",
       "  <thead>\n",
       "    <tr style=\"text-align: right;\">\n",
       "      <th></th>\n",
       "      <th>customerid</th>\n",
       "      <th>productid</th>\n",
       "      <th>quantity</th>\n",
       "      <th>price</th>\n",
       "      <th>transactiondate</th>\n",
       "      <th>paymentmethod</th>\n",
       "      <th>productcategory</th>\n",
       "      <th>discountapplied(%)</th>\n",
       "    </tr>\n",
       "  </thead>\n",
       "  <tbody>\n",
       "    <tr>\n",
       "      <th>0</th>\n",
       "      <td>169</td>\n",
       "      <td>B</td>\n",
       "      <td>7.0</td>\n",
       "      <td>76.15</td>\n",
       "      <td>1/31/2024 10:50</td>\n",
       "      <td>Cash</td>\n",
       "      <td>Clothing</td>\n",
       "      <td>14.2</td>\n",
       "    </tr>\n",
       "    <tr>\n",
       "      <th>1</th>\n",
       "      <td>213</td>\n",
       "      <td>C</td>\n",
       "      <td>4.0</td>\n",
       "      <td>85.59</td>\n",
       "      <td>6/26/2023 21:13</td>\n",
       "      <td>Credit Card</td>\n",
       "      <td>Home Decor</td>\n",
       "      <td>0.5</td>\n",
       "    </tr>\n",
       "    <tr>\n",
       "      <th>2</th>\n",
       "      <td>315</td>\n",
       "      <td>C</td>\n",
       "      <td>4.0</td>\n",
       "      <td>94.33</td>\n",
       "      <td>8/18/2023 07:01</td>\n",
       "      <td>Cash</td>\n",
       "      <td>Electronics</td>\n",
       "      <td>20.0</td>\n",
       "    </tr>\n",
       "    <tr>\n",
       "      <th>3</th>\n",
       "      <td>442</td>\n",
       "      <td>B</td>\n",
       "      <td>6.0</td>\n",
       "      <td>81.00</td>\n",
       "      <td>8/30/2023 03:37</td>\n",
       "      <td>Debit Card</td>\n",
       "      <td>Home Decor</td>\n",
       "      <td>16.0</td>\n",
       "    </tr>\n",
       "    <tr>\n",
       "      <th>4</th>\n",
       "      <td>587</td>\n",
       "      <td>B</td>\n",
       "      <td>1.0</td>\n",
       "      <td>45.68</td>\n",
       "      <td>9/14/2023 23:34</td>\n",
       "      <td>Credit Card</td>\n",
       "      <td>Home Decor</td>\n",
       "      <td>10.3</td>\n",
       "    </tr>\n",
       "    <tr>\n",
       "      <th>...</th>\n",
       "      <td>...</td>\n",
       "      <td>...</td>\n",
       "      <td>...</td>\n",
       "      <td>...</td>\n",
       "      <td>...</td>\n",
       "      <td>...</td>\n",
       "      <td>...</td>\n",
       "      <td>...</td>\n",
       "    </tr>\n",
       "    <tr>\n",
       "      <th>1162</th>\n",
       "      <td>298695</td>\n",
       "      <td>B</td>\n",
       "      <td>1.0</td>\n",
       "      <td>103.24</td>\n",
       "      <td>6/12/2023 15:01</td>\n",
       "      <td>PayPal</td>\n",
       "      <td>Electronics</td>\n",
       "      <td>7.9</td>\n",
       "    </tr>\n",
       "    <tr>\n",
       "      <th>1163</th>\n",
       "      <td>298721</td>\n",
       "      <td>A</td>\n",
       "      <td>8.0</td>\n",
       "      <td>43.87</td>\n",
       "      <td>7/21/2023 01:17</td>\n",
       "      <td>PayPal</td>\n",
       "      <td>Books</td>\n",
       "      <td>1.3</td>\n",
       "    </tr>\n",
       "    <tr>\n",
       "      <th>1164</th>\n",
       "      <td>298832</td>\n",
       "      <td>B</td>\n",
       "      <td>6.0</td>\n",
       "      <td>57.36</td>\n",
       "      <td>6/22/2023 23:33</td>\n",
       "      <td>Debit Card</td>\n",
       "      <td>Books</td>\n",
       "      <td>17.1</td>\n",
       "    </tr>\n",
       "    <tr>\n",
       "      <th>1165</th>\n",
       "      <td>298848</td>\n",
       "      <td>D</td>\n",
       "      <td>7.0</td>\n",
       "      <td>82.33</td>\n",
       "      <td>6/25/2023 01:30</td>\n",
       "      <td>Credit Card</td>\n",
       "      <td>Home Decor</td>\n",
       "      <td>0.8</td>\n",
       "    </tr>\n",
       "    <tr>\n",
       "      <th>1166</th>\n",
       "      <td>299118</td>\n",
       "      <td>C</td>\n",
       "      <td>7.0</td>\n",
       "      <td>12.56</td>\n",
       "      <td>6/3/2023 02:32</td>\n",
       "      <td>Credit Card</td>\n",
       "      <td>Books</td>\n",
       "      <td>3.6</td>\n",
       "    </tr>\n",
       "  </tbody>\n",
       "</table>\n",
       "<p>1136 rows × 8 columns</p>\n",
       "</div>"
      ],
      "text/plain": [
       "      customerid productid  quantity   price  transactiondate paymentmethod  \\\n",
       "0            169         B       7.0   76.15  1/31/2024 10:50          Cash   \n",
       "1            213         C       4.0   85.59  6/26/2023 21:13   Credit Card   \n",
       "2            315         C       4.0   94.33  8/18/2023 07:01          Cash   \n",
       "3            442         B       6.0   81.00  8/30/2023 03:37    Debit Card   \n",
       "4            587         B       1.0   45.68  9/14/2023 23:34   Credit Card   \n",
       "...          ...       ...       ...     ...              ...           ...   \n",
       "1162      298695         B       1.0  103.24  6/12/2023 15:01        PayPal   \n",
       "1163      298721         A       8.0   43.87  7/21/2023 01:17        PayPal   \n",
       "1164      298832         B       6.0   57.36  6/22/2023 23:33    Debit Card   \n",
       "1165      298848         D       7.0   82.33  6/25/2023 01:30   Credit Card   \n",
       "1166      299118         C       7.0   12.56   6/3/2023 02:32   Credit Card   \n",
       "\n",
       "     productcategory  discountapplied(%)  \n",
       "0           Clothing                14.2  \n",
       "1         Home Decor                 0.5  \n",
       "2        Electronics                20.0  \n",
       "3         Home Decor                16.0  \n",
       "4         Home Decor                10.3  \n",
       "...              ...                 ...  \n",
       "1162     Electronics                 7.9  \n",
       "1163           Books                 1.3  \n",
       "1164           Books                17.1  \n",
       "1165      Home Decor                 0.8  \n",
       "1166           Books                 3.6  \n",
       "\n",
       "[1136 rows x 8 columns]"
      ]
     },
     "execution_count": 31,
     "metadata": {},
     "output_type": "execute_result"
    }
   ],
   "source": [
    "#I wan to drop null values using dropna()\n",
    "df =df.dropna()\n",
    "df"
   ]
  },
  {
   "cell_type": "code",
   "execution_count": 34,
   "id": "531d17ae-34b5-4eea-83a6-b78c358722cd",
   "metadata": {},
   "outputs": [
    {
     "data": {
      "text/plain": [
       "customerid            0\n",
       "productid             0\n",
       "quantity              0\n",
       "price                 0\n",
       "transactiondate       0\n",
       "paymentmethod         0\n",
       "productcategory       0\n",
       "discountapplied(%)    0\n",
       "dtype: int64"
      ]
     },
     "execution_count": 34,
     "metadata": {},
     "output_type": "execute_result"
    }
   ],
   "source": [
    "#To check if the null values has been drop\n",
    "df.isna().sum()\n"
   ]
  },
  {
   "cell_type": "code",
   "execution_count": 36,
   "id": "7167593d-a89a-4734-a5f4-5a2c97083b34",
   "metadata": {},
   "outputs": [
    {
     "data": {
      "text/html": [
       "<div>\n",
       "<style scoped>\n",
       "    .dataframe tbody tr th:only-of-type {\n",
       "        vertical-align: middle;\n",
       "    }\n",
       "\n",
       "    .dataframe tbody tr th {\n",
       "        vertical-align: top;\n",
       "    }\n",
       "\n",
       "    .dataframe thead th {\n",
       "        text-align: right;\n",
       "    }\n",
       "</style>\n",
       "<table border=\"1\" class=\"dataframe\">\n",
       "  <thead>\n",
       "    <tr style=\"text-align: right;\">\n",
       "      <th></th>\n",
       "      <th>customerid</th>\n",
       "      <th>productid</th>\n",
       "      <th>quantity</th>\n",
       "      <th>price</th>\n",
       "      <th>transactiondate</th>\n",
       "      <th>paymentmethod</th>\n",
       "      <th>productcategory</th>\n",
       "      <th>discountapplied(%)</th>\n",
       "    </tr>\n",
       "  </thead>\n",
       "  <tbody>\n",
       "    <tr>\n",
       "      <th>0</th>\n",
       "      <td>169</td>\n",
       "      <td>B</td>\n",
       "      <td>7.0</td>\n",
       "      <td>76.15</td>\n",
       "      <td>1/31/2024 10:50</td>\n",
       "      <td>Cash</td>\n",
       "      <td>Clothing</td>\n",
       "      <td>14.2</td>\n",
       "    </tr>\n",
       "    <tr>\n",
       "      <th>1</th>\n",
       "      <td>213</td>\n",
       "      <td>C</td>\n",
       "      <td>4.0</td>\n",
       "      <td>85.59</td>\n",
       "      <td>6/26/2023 21:13</td>\n",
       "      <td>Credit Card</td>\n",
       "      <td>Home Decor</td>\n",
       "      <td>0.5</td>\n",
       "    </tr>\n",
       "    <tr>\n",
       "      <th>2</th>\n",
       "      <td>315</td>\n",
       "      <td>C</td>\n",
       "      <td>4.0</td>\n",
       "      <td>94.33</td>\n",
       "      <td>8/18/2023 07:01</td>\n",
       "      <td>Cash</td>\n",
       "      <td>Electronics</td>\n",
       "      <td>20.0</td>\n",
       "    </tr>\n",
       "    <tr>\n",
       "      <th>3</th>\n",
       "      <td>442</td>\n",
       "      <td>B</td>\n",
       "      <td>6.0</td>\n",
       "      <td>81.00</td>\n",
       "      <td>8/30/2023 03:37</td>\n",
       "      <td>Debit Card</td>\n",
       "      <td>Home Decor</td>\n",
       "      <td>16.0</td>\n",
       "    </tr>\n",
       "    <tr>\n",
       "      <th>4</th>\n",
       "      <td>587</td>\n",
       "      <td>B</td>\n",
       "      <td>1.0</td>\n",
       "      <td>45.68</td>\n",
       "      <td>9/14/2023 23:34</td>\n",
       "      <td>Credit Card</td>\n",
       "      <td>Home Decor</td>\n",
       "      <td>10.3</td>\n",
       "    </tr>\n",
       "    <tr>\n",
       "      <th>...</th>\n",
       "      <td>...</td>\n",
       "      <td>...</td>\n",
       "      <td>...</td>\n",
       "      <td>...</td>\n",
       "      <td>...</td>\n",
       "      <td>...</td>\n",
       "      <td>...</td>\n",
       "      <td>...</td>\n",
       "    </tr>\n",
       "    <tr>\n",
       "      <th>1162</th>\n",
       "      <td>298695</td>\n",
       "      <td>B</td>\n",
       "      <td>1.0</td>\n",
       "      <td>103.24</td>\n",
       "      <td>6/12/2023 15:01</td>\n",
       "      <td>PayPal</td>\n",
       "      <td>Electronics</td>\n",
       "      <td>7.9</td>\n",
       "    </tr>\n",
       "    <tr>\n",
       "      <th>1163</th>\n",
       "      <td>298721</td>\n",
       "      <td>A</td>\n",
       "      <td>8.0</td>\n",
       "      <td>43.87</td>\n",
       "      <td>7/21/2023 01:17</td>\n",
       "      <td>PayPal</td>\n",
       "      <td>Books</td>\n",
       "      <td>1.3</td>\n",
       "    </tr>\n",
       "    <tr>\n",
       "      <th>1164</th>\n",
       "      <td>298832</td>\n",
       "      <td>B</td>\n",
       "      <td>6.0</td>\n",
       "      <td>57.36</td>\n",
       "      <td>6/22/2023 23:33</td>\n",
       "      <td>Debit Card</td>\n",
       "      <td>Books</td>\n",
       "      <td>17.1</td>\n",
       "    </tr>\n",
       "    <tr>\n",
       "      <th>1165</th>\n",
       "      <td>298848</td>\n",
       "      <td>D</td>\n",
       "      <td>7.0</td>\n",
       "      <td>82.33</td>\n",
       "      <td>6/25/2023 01:30</td>\n",
       "      <td>Credit Card</td>\n",
       "      <td>Home Decor</td>\n",
       "      <td>0.8</td>\n",
       "    </tr>\n",
       "    <tr>\n",
       "      <th>1166</th>\n",
       "      <td>299118</td>\n",
       "      <td>C</td>\n",
       "      <td>7.0</td>\n",
       "      <td>12.56</td>\n",
       "      <td>6/3/2023 02:32</td>\n",
       "      <td>Credit Card</td>\n",
       "      <td>Books</td>\n",
       "      <td>3.6</td>\n",
       "    </tr>\n",
       "  </tbody>\n",
       "</table>\n",
       "<p>1136 rows × 8 columns</p>\n",
       "</div>"
      ],
      "text/plain": [
       "      customerid productid  quantity   price  transactiondate paymentmethod  \\\n",
       "0            169         B       7.0   76.15  1/31/2024 10:50          Cash   \n",
       "1            213         C       4.0   85.59  6/26/2023 21:13   Credit Card   \n",
       "2            315         C       4.0   94.33  8/18/2023 07:01          Cash   \n",
       "3            442         B       6.0   81.00  8/30/2023 03:37    Debit Card   \n",
       "4            587         B       1.0   45.68  9/14/2023 23:34   Credit Card   \n",
       "...          ...       ...       ...     ...              ...           ...   \n",
       "1162      298695         B       1.0  103.24  6/12/2023 15:01        PayPal   \n",
       "1163      298721         A       8.0   43.87  7/21/2023 01:17        PayPal   \n",
       "1164      298832         B       6.0   57.36  6/22/2023 23:33    Debit Card   \n",
       "1165      298848         D       7.0   82.33  6/25/2023 01:30   Credit Card   \n",
       "1166      299118         C       7.0   12.56   6/3/2023 02:32   Credit Card   \n",
       "\n",
       "     productcategory  discountapplied(%)  \n",
       "0           Clothing                14.2  \n",
       "1         Home Decor                 0.5  \n",
       "2        Electronics                20.0  \n",
       "3         Home Decor                16.0  \n",
       "4         Home Decor                10.3  \n",
       "...              ...                 ...  \n",
       "1162     Electronics                 7.9  \n",
       "1163           Books                 1.3  \n",
       "1164           Books                17.1  \n",
       "1165      Home Decor                 0.8  \n",
       "1166           Books                 3.6  \n",
       "\n",
       "[1136 rows x 8 columns]"
      ]
     },
     "execution_count": 36,
     "metadata": {},
     "output_type": "execute_result"
    }
   ],
   "source": [
    "#to remove duplicate values\n",
    "df =df.drop_duplicates()\n",
    "df"
   ]
  },
  {
   "cell_type": "code",
   "execution_count": 38,
   "id": "f26eee18-2872-4cc8-9f07-1065e6499d2e",
   "metadata": {},
   "outputs": [
    {
     "name": "stdout",
     "output_type": "stream",
     "text": [
      "The new shape have rows as 1136 and columns as 8\n"
     ]
    }
   ],
   "source": [
    "#To check the new dataframe\n",
    "newShape = df.shape\n",
    "newShape\n",
    "print(f\"The new shape have rows as {newShape[0]} and columns as {newShape[1]}\")"
   ]
  },
  {
   "cell_type": "markdown",
   "id": "2e899f70-7d09-412b-9685-4531b75d89e0",
   "metadata": {},
   "source": [
    "##### **4. Create a new dataframe containing just the numerical variables and access the relationship between the variables.** #####"
   ]
  },
  {
   "cell_type": "code",
   "execution_count": 41,
   "id": "909664b3-b78a-4890-99e4-78858bb305ab",
   "metadata": {},
   "outputs": [
    {
     "data": {
      "text/html": [
       "<div>\n",
       "<style scoped>\n",
       "    .dataframe tbody tr th:only-of-type {\n",
       "        vertical-align: middle;\n",
       "    }\n",
       "\n",
       "    .dataframe tbody tr th {\n",
       "        vertical-align: top;\n",
       "    }\n",
       "\n",
       "    .dataframe thead th {\n",
       "        text-align: right;\n",
       "    }\n",
       "</style>\n",
       "<table border=\"1\" class=\"dataframe\">\n",
       "  <thead>\n",
       "    <tr style=\"text-align: right;\">\n",
       "      <th></th>\n",
       "      <th>customerid</th>\n",
       "      <th>quantity</th>\n",
       "      <th>price</th>\n",
       "      <th>discountapplied(%)</th>\n",
       "    </tr>\n",
       "  </thead>\n",
       "  <tbody>\n",
       "    <tr>\n",
       "      <th>0</th>\n",
       "      <td>169</td>\n",
       "      <td>7.0</td>\n",
       "      <td>76.15</td>\n",
       "      <td>14.2</td>\n",
       "    </tr>\n",
       "    <tr>\n",
       "      <th>1</th>\n",
       "      <td>213</td>\n",
       "      <td>4.0</td>\n",
       "      <td>85.59</td>\n",
       "      <td>0.5</td>\n",
       "    </tr>\n",
       "    <tr>\n",
       "      <th>2</th>\n",
       "      <td>315</td>\n",
       "      <td>4.0</td>\n",
       "      <td>94.33</td>\n",
       "      <td>20.0</td>\n",
       "    </tr>\n",
       "    <tr>\n",
       "      <th>3</th>\n",
       "      <td>442</td>\n",
       "      <td>6.0</td>\n",
       "      <td>81.00</td>\n",
       "      <td>16.0</td>\n",
       "    </tr>\n",
       "    <tr>\n",
       "      <th>4</th>\n",
       "      <td>587</td>\n",
       "      <td>1.0</td>\n",
       "      <td>45.68</td>\n",
       "      <td>10.3</td>\n",
       "    </tr>\n",
       "    <tr>\n",
       "      <th>...</th>\n",
       "      <td>...</td>\n",
       "      <td>...</td>\n",
       "      <td>...</td>\n",
       "      <td>...</td>\n",
       "    </tr>\n",
       "    <tr>\n",
       "      <th>1162</th>\n",
       "      <td>298695</td>\n",
       "      <td>1.0</td>\n",
       "      <td>103.24</td>\n",
       "      <td>7.9</td>\n",
       "    </tr>\n",
       "    <tr>\n",
       "      <th>1163</th>\n",
       "      <td>298721</td>\n",
       "      <td>8.0</td>\n",
       "      <td>43.87</td>\n",
       "      <td>1.3</td>\n",
       "    </tr>\n",
       "    <tr>\n",
       "      <th>1164</th>\n",
       "      <td>298832</td>\n",
       "      <td>6.0</td>\n",
       "      <td>57.36</td>\n",
       "      <td>17.1</td>\n",
       "    </tr>\n",
       "    <tr>\n",
       "      <th>1165</th>\n",
       "      <td>298848</td>\n",
       "      <td>7.0</td>\n",
       "      <td>82.33</td>\n",
       "      <td>0.8</td>\n",
       "    </tr>\n",
       "    <tr>\n",
       "      <th>1166</th>\n",
       "      <td>299118</td>\n",
       "      <td>7.0</td>\n",
       "      <td>12.56</td>\n",
       "      <td>3.6</td>\n",
       "    </tr>\n",
       "  </tbody>\n",
       "</table>\n",
       "<p>1136 rows × 4 columns</p>\n",
       "</div>"
      ],
      "text/plain": [
       "      customerid  quantity   price  discountapplied(%)\n",
       "0            169       7.0   76.15                14.2\n",
       "1            213       4.0   85.59                 0.5\n",
       "2            315       4.0   94.33                20.0\n",
       "3            442       6.0   81.00                16.0\n",
       "4            587       1.0   45.68                10.3\n",
       "...          ...       ...     ...                 ...\n",
       "1162      298695       1.0  103.24                 7.9\n",
       "1163      298721       8.0   43.87                 1.3\n",
       "1164      298832       6.0   57.36                17.1\n",
       "1165      298848       7.0   82.33                 0.8\n",
       "1166      299118       7.0   12.56                 3.6\n",
       "\n",
       "[1136 rows x 4 columns]"
      ]
     },
     "execution_count": 41,
     "metadata": {},
     "output_type": "execute_result"
    }
   ],
   "source": [
    "#To create new dataframe using the selected_type to separate numbers from the other data type\n",
    "df_num = df.select_dtypes(include = \"number\")\n",
    "df_num"
   ]
  },
  {
   "cell_type": "code",
   "execution_count": 43,
   "id": "b907f410-2375-46ae-b6c1-dc0e9252f3b6",
   "metadata": {},
   "outputs": [
    {
     "data": {
      "text/html": [
       "<div>\n",
       "<style scoped>\n",
       "    .dataframe tbody tr th:only-of-type {\n",
       "        vertical-align: middle;\n",
       "    }\n",
       "\n",
       "    .dataframe tbody tr th {\n",
       "        vertical-align: top;\n",
       "    }\n",
       "\n",
       "    .dataframe thead th {\n",
       "        text-align: right;\n",
       "    }\n",
       "</style>\n",
       "<table border=\"1\" class=\"dataframe\">\n",
       "  <thead>\n",
       "    <tr style=\"text-align: right;\">\n",
       "      <th></th>\n",
       "      <th>customerid</th>\n",
       "      <th>quantity</th>\n",
       "      <th>price</th>\n",
       "      <th>discountapplied(%)</th>\n",
       "    </tr>\n",
       "  </thead>\n",
       "  <tbody>\n",
       "    <tr>\n",
       "      <th>customerid</th>\n",
       "      <td>1.000000</td>\n",
       "      <td>-0.013920</td>\n",
       "      <td>-0.064676</td>\n",
       "      <td>-0.031963</td>\n",
       "    </tr>\n",
       "    <tr>\n",
       "      <th>quantity</th>\n",
       "      <td>-0.013920</td>\n",
       "      <td>1.000000</td>\n",
       "      <td>0.041604</td>\n",
       "      <td>-0.020836</td>\n",
       "    </tr>\n",
       "    <tr>\n",
       "      <th>price</th>\n",
       "      <td>-0.064676</td>\n",
       "      <td>0.041604</td>\n",
       "      <td>1.000000</td>\n",
       "      <td>0.050130</td>\n",
       "    </tr>\n",
       "    <tr>\n",
       "      <th>discountapplied(%)</th>\n",
       "      <td>-0.031963</td>\n",
       "      <td>-0.020836</td>\n",
       "      <td>0.050130</td>\n",
       "      <td>1.000000</td>\n",
       "    </tr>\n",
       "  </tbody>\n",
       "</table>\n",
       "</div>"
      ],
      "text/plain": [
       "                    customerid  quantity     price  discountapplied(%)\n",
       "customerid            1.000000 -0.013920 -0.064676           -0.031963\n",
       "quantity             -0.013920  1.000000  0.041604           -0.020836\n",
       "price                -0.064676  0.041604  1.000000            0.050130\n",
       "discountapplied(%)   -0.031963 -0.020836  0.050130            1.000000"
      ]
     },
     "execution_count": 43,
     "metadata": {},
     "output_type": "execute_result"
    }
   ],
   "source": [
    "# To get the relationship between variables\n",
    "df_num.corr()"
   ]
  },
  {
   "cell_type": "markdown",
   "id": "0cc36f7d-a5b3-4435-b1fa-27ec2c5cb277",
   "metadata": {},
   "source": [
    "##### **5. You have a transaction date variable, convert it to a datetime variable and extract the month names and day names into two new columns** #####"
   ]
  },
  {
   "cell_type": "code",
   "execution_count": 45,
   "id": "f338693e-7319-4649-b7fc-8bff2ed752b6",
   "metadata": {},
   "outputs": [
    {
     "data": {
      "text/plain": [
       "customerid              int64\n",
       "productid              object\n",
       "quantity              float64\n",
       "price                 float64\n",
       "transactiondate        object\n",
       "paymentmethod          object\n",
       "productcategory        object\n",
       "discountapplied(%)    float64\n",
       "dtype: object"
      ]
     },
     "execution_count": 45,
     "metadata": {},
     "output_type": "execute_result"
    }
   ],
   "source": [
    "#to check the type of the columns so that i can obtain if the transaction data variable\n",
    "df.dtypes"
   ]
  },
  {
   "cell_type": "code",
   "execution_count": 47,
   "id": "079d4a54-1763-4678-b26f-3ce64d840061",
   "metadata": {},
   "outputs": [
    {
     "data": {
      "text/plain": [
       "0      2024-01-31 10:50:00\n",
       "1      2023-06-26 21:13:00\n",
       "2      2023-08-18 07:01:00\n",
       "3      2023-08-30 03:37:00\n",
       "4      2023-09-14 23:34:00\n",
       "               ...        \n",
       "1162   2023-06-12 15:01:00\n",
       "1163   2023-07-21 01:17:00\n",
       "1164   2023-06-22 23:33:00\n",
       "1165   2023-06-25 01:30:00\n",
       "1166   2023-06-03 02:32:00\n",
       "Name: transactiondate, Length: 1136, dtype: datetime64[ns]"
      ]
     },
     "execution_count": 47,
     "metadata": {},
     "output_type": "execute_result"
    }
   ],
   "source": [
    "#The transaction date column is an object and i want to convert it to datetime variable\n",
    "df[\"transactiondate\"] = pd.to_datetime(df[\"transactiondate\"])\n",
    "df[\"transactiondate\"]"
   ]
  },
  {
   "cell_type": "code",
   "execution_count": 49,
   "id": "3a018003-8da4-4084-abd2-a6053947483c",
   "metadata": {},
   "outputs": [
    {
     "data": {
      "text/plain": [
       "customerid                     int64\n",
       "productid                     object\n",
       "quantity                     float64\n",
       "price                        float64\n",
       "transactiondate       datetime64[ns]\n",
       "paymentmethod                 object\n",
       "productcategory               object\n",
       "discountapplied(%)           float64\n",
       "dtype: object"
      ]
     },
     "execution_count": 49,
     "metadata": {},
     "output_type": "execute_result"
    }
   ],
   "source": [
    "#To check if conversion in the transactiondate is now datetime type\n",
    "df.dtypes"
   ]
  },
  {
   "cell_type": "code",
   "execution_count": 51,
   "id": "a244e7fc-b793-480f-8c33-6c1dfb2f3360",
   "metadata": {},
   "outputs": [
    {
     "name": "stdout",
     "output_type": "stream",
     "text": [
      "['__annotations__', '__class__', '__delattr__', '__dict__', '__dir__', '__doc__', '__eq__', '__format__', '__frozen', '__ge__', '__getattribute__', '__getstate__', '__gt__', '__hash__', '__init__', '__init_subclass__', '__le__', '__lt__', '__module__', '__ne__', '__new__', '__reduce__', '__reduce_ex__', '__repr__', '__setattr__', '__sizeof__', '__str__', '__subclasshook__', '__weakref__', '_accessors', '_add_delegate_accessors', '_constructor', '_delegate_method', '_delegate_property_get', '_delegate_property_set', '_dir_additions', '_dir_deletions', '_freeze', '_get_values', '_hidden_attrs', '_parent', '_reset_cache', 'as_unit', 'ceil', 'date', 'day', 'day_name', 'day_of_week', 'day_of_year', 'dayofweek', 'dayofyear', 'days_in_month', 'daysinmonth', 'floor', 'freq', 'hour', 'is_leap_year', 'is_month_end', 'is_month_start', 'is_quarter_end', 'is_quarter_start', 'is_year_end', 'is_year_start', 'isocalendar', 'microsecond', 'minute', 'month', 'month_name', 'nanosecond', 'normalize', 'quarter', 'round', 'second', 'strftime', 'time', 'timetz', 'to_period', 'to_pydatetime', 'tz', 'tz_convert', 'tz_localize', 'unit', 'weekday', 'year']\n"
     ]
    }
   ],
   "source": [
    "print(dir(df[\"transactiondate\"].dt))"
   ]
  },
  {
   "cell_type": "code",
   "execution_count": 53,
   "id": "f1d1423d-9ad1-4368-ad30-3be6a8d11d24",
   "metadata": {},
   "outputs": [
    {
     "data": {
      "text/plain": [
       "0         January\n",
       "1            June\n",
       "2          August\n",
       "3          August\n",
       "4       September\n",
       "          ...    \n",
       "1162         June\n",
       "1163         July\n",
       "1164         June\n",
       "1165         June\n",
       "1166         June\n",
       "Name: monthName, Length: 1136, dtype: object"
      ]
     },
     "execution_count": 53,
     "metadata": {},
     "output_type": "execute_result"
    }
   ],
   "source": [
    "#TO extract the Month name into the monthName\n",
    "df[\"monthName\"] = df[\"transactiondate\"].dt.month_name()\n",
    "df[\"monthName\"]"
   ]
  },
  {
   "cell_type": "code",
   "execution_count": 55,
   "id": "f629dafd-ba0a-4da5-8080-deea69de0950",
   "metadata": {},
   "outputs": [
    {
     "data": {
      "text/plain": [
       "0       Wednesday\n",
       "1          Monday\n",
       "2          Friday\n",
       "3       Wednesday\n",
       "4        Thursday\n",
       "          ...    \n",
       "1162       Monday\n",
       "1163       Friday\n",
       "1164     Thursday\n",
       "1165       Sunday\n",
       "1166     Saturday\n",
       "Name: dayName, Length: 1136, dtype: object"
      ]
     },
     "execution_count": 55,
     "metadata": {},
     "output_type": "execute_result"
    }
   ],
   "source": [
    "#TO extract the Month name into the monthName\n",
    "df[\"dayName\"] = df[\"transactiondate\"].dt.day_name()\n",
    "df[\"dayName\"]"
   ]
  },
  {
   "cell_type": "code",
   "execution_count": 57,
   "id": "bc3a8314-0dd3-4b2d-b783-0d14e7f9d412",
   "metadata": {},
   "outputs": [
    {
     "data": {
      "text/html": [
       "<div>\n",
       "<style scoped>\n",
       "    .dataframe tbody tr th:only-of-type {\n",
       "        vertical-align: middle;\n",
       "    }\n",
       "\n",
       "    .dataframe tbody tr th {\n",
       "        vertical-align: top;\n",
       "    }\n",
       "\n",
       "    .dataframe thead th {\n",
       "        text-align: right;\n",
       "    }\n",
       "</style>\n",
       "<table border=\"1\" class=\"dataframe\">\n",
       "  <thead>\n",
       "    <tr style=\"text-align: right;\">\n",
       "      <th></th>\n",
       "      <th>customerid</th>\n",
       "      <th>productid</th>\n",
       "      <th>quantity</th>\n",
       "      <th>price</th>\n",
       "      <th>transactiondate</th>\n",
       "      <th>paymentmethod</th>\n",
       "      <th>productcategory</th>\n",
       "      <th>discountapplied(%)</th>\n",
       "      <th>monthName</th>\n",
       "      <th>dayName</th>\n",
       "    </tr>\n",
       "  </thead>\n",
       "  <tbody>\n",
       "    <tr>\n",
       "      <th>0</th>\n",
       "      <td>169</td>\n",
       "      <td>B</td>\n",
       "      <td>7.0</td>\n",
       "      <td>76.15</td>\n",
       "      <td>2024-01-31 10:50:00</td>\n",
       "      <td>Cash</td>\n",
       "      <td>Clothing</td>\n",
       "      <td>14.2</td>\n",
       "      <td>January</td>\n",
       "      <td>Wednesday</td>\n",
       "    </tr>\n",
       "    <tr>\n",
       "      <th>1</th>\n",
       "      <td>213</td>\n",
       "      <td>C</td>\n",
       "      <td>4.0</td>\n",
       "      <td>85.59</td>\n",
       "      <td>2023-06-26 21:13:00</td>\n",
       "      <td>Credit Card</td>\n",
       "      <td>Home Decor</td>\n",
       "      <td>0.5</td>\n",
       "      <td>June</td>\n",
       "      <td>Monday</td>\n",
       "    </tr>\n",
       "    <tr>\n",
       "      <th>2</th>\n",
       "      <td>315</td>\n",
       "      <td>C</td>\n",
       "      <td>4.0</td>\n",
       "      <td>94.33</td>\n",
       "      <td>2023-08-18 07:01:00</td>\n",
       "      <td>Cash</td>\n",
       "      <td>Electronics</td>\n",
       "      <td>20.0</td>\n",
       "      <td>August</td>\n",
       "      <td>Friday</td>\n",
       "    </tr>\n",
       "    <tr>\n",
       "      <th>3</th>\n",
       "      <td>442</td>\n",
       "      <td>B</td>\n",
       "      <td>6.0</td>\n",
       "      <td>81.00</td>\n",
       "      <td>2023-08-30 03:37:00</td>\n",
       "      <td>Debit Card</td>\n",
       "      <td>Home Decor</td>\n",
       "      <td>16.0</td>\n",
       "      <td>August</td>\n",
       "      <td>Wednesday</td>\n",
       "    </tr>\n",
       "    <tr>\n",
       "      <th>4</th>\n",
       "      <td>587</td>\n",
       "      <td>B</td>\n",
       "      <td>1.0</td>\n",
       "      <td>45.68</td>\n",
       "      <td>2023-09-14 23:34:00</td>\n",
       "      <td>Credit Card</td>\n",
       "      <td>Home Decor</td>\n",
       "      <td>10.3</td>\n",
       "      <td>September</td>\n",
       "      <td>Thursday</td>\n",
       "    </tr>\n",
       "    <tr>\n",
       "      <th>...</th>\n",
       "      <td>...</td>\n",
       "      <td>...</td>\n",
       "      <td>...</td>\n",
       "      <td>...</td>\n",
       "      <td>...</td>\n",
       "      <td>...</td>\n",
       "      <td>...</td>\n",
       "      <td>...</td>\n",
       "      <td>...</td>\n",
       "      <td>...</td>\n",
       "    </tr>\n",
       "    <tr>\n",
       "      <th>1162</th>\n",
       "      <td>298695</td>\n",
       "      <td>B</td>\n",
       "      <td>1.0</td>\n",
       "      <td>103.24</td>\n",
       "      <td>2023-06-12 15:01:00</td>\n",
       "      <td>PayPal</td>\n",
       "      <td>Electronics</td>\n",
       "      <td>7.9</td>\n",
       "      <td>June</td>\n",
       "      <td>Monday</td>\n",
       "    </tr>\n",
       "    <tr>\n",
       "      <th>1163</th>\n",
       "      <td>298721</td>\n",
       "      <td>A</td>\n",
       "      <td>8.0</td>\n",
       "      <td>43.87</td>\n",
       "      <td>2023-07-21 01:17:00</td>\n",
       "      <td>PayPal</td>\n",
       "      <td>Books</td>\n",
       "      <td>1.3</td>\n",
       "      <td>July</td>\n",
       "      <td>Friday</td>\n",
       "    </tr>\n",
       "    <tr>\n",
       "      <th>1164</th>\n",
       "      <td>298832</td>\n",
       "      <td>B</td>\n",
       "      <td>6.0</td>\n",
       "      <td>57.36</td>\n",
       "      <td>2023-06-22 23:33:00</td>\n",
       "      <td>Debit Card</td>\n",
       "      <td>Books</td>\n",
       "      <td>17.1</td>\n",
       "      <td>June</td>\n",
       "      <td>Thursday</td>\n",
       "    </tr>\n",
       "    <tr>\n",
       "      <th>1165</th>\n",
       "      <td>298848</td>\n",
       "      <td>D</td>\n",
       "      <td>7.0</td>\n",
       "      <td>82.33</td>\n",
       "      <td>2023-06-25 01:30:00</td>\n",
       "      <td>Credit Card</td>\n",
       "      <td>Home Decor</td>\n",
       "      <td>0.8</td>\n",
       "      <td>June</td>\n",
       "      <td>Sunday</td>\n",
       "    </tr>\n",
       "    <tr>\n",
       "      <th>1166</th>\n",
       "      <td>299118</td>\n",
       "      <td>C</td>\n",
       "      <td>7.0</td>\n",
       "      <td>12.56</td>\n",
       "      <td>2023-06-03 02:32:00</td>\n",
       "      <td>Credit Card</td>\n",
       "      <td>Books</td>\n",
       "      <td>3.6</td>\n",
       "      <td>June</td>\n",
       "      <td>Saturday</td>\n",
       "    </tr>\n",
       "  </tbody>\n",
       "</table>\n",
       "<p>1136 rows × 10 columns</p>\n",
       "</div>"
      ],
      "text/plain": [
       "      customerid productid  quantity   price     transactiondate  \\\n",
       "0            169         B       7.0   76.15 2024-01-31 10:50:00   \n",
       "1            213         C       4.0   85.59 2023-06-26 21:13:00   \n",
       "2            315         C       4.0   94.33 2023-08-18 07:01:00   \n",
       "3            442         B       6.0   81.00 2023-08-30 03:37:00   \n",
       "4            587         B       1.0   45.68 2023-09-14 23:34:00   \n",
       "...          ...       ...       ...     ...                 ...   \n",
       "1162      298695         B       1.0  103.24 2023-06-12 15:01:00   \n",
       "1163      298721         A       8.0   43.87 2023-07-21 01:17:00   \n",
       "1164      298832         B       6.0   57.36 2023-06-22 23:33:00   \n",
       "1165      298848         D       7.0   82.33 2023-06-25 01:30:00   \n",
       "1166      299118         C       7.0   12.56 2023-06-03 02:32:00   \n",
       "\n",
       "     paymentmethod productcategory  discountapplied(%)  monthName    dayName  \n",
       "0             Cash        Clothing                14.2    January  Wednesday  \n",
       "1      Credit Card      Home Decor                 0.5       June     Monday  \n",
       "2             Cash     Electronics                20.0     August     Friday  \n",
       "3       Debit Card      Home Decor                16.0     August  Wednesday  \n",
       "4      Credit Card      Home Decor                10.3  September   Thursday  \n",
       "...            ...             ...                 ...        ...        ...  \n",
       "1162        PayPal     Electronics                 7.9       June     Monday  \n",
       "1163        PayPal           Books                 1.3       July     Friday  \n",
       "1164    Debit Card           Books                17.1       June   Thursday  \n",
       "1165   Credit Card      Home Decor                 0.8       June     Sunday  \n",
       "1166   Credit Card           Books                 3.6       June   Saturday  \n",
       "\n",
       "[1136 rows x 10 columns]"
      ]
     },
     "execution_count": 57,
     "metadata": {},
     "output_type": "execute_result"
    }
   ],
   "source": [
    "#to show if the new columns have been added to the dataFrame (df)\n",
    "df"
   ]
  },
  {
   "cell_type": "markdown",
   "id": "557ba86f-1a03-44d1-b41c-4874cd27461d",
   "metadata": {},
   "source": [
    "#### **6. Check for any outlier in the price column and remove any value that is greater than 300** ####"
   ]
  },
  {
   "cell_type": "code",
   "execution_count": 59,
   "id": "8e2a6e2a-296d-40a4-8345-86cc684ee182",
   "metadata": {},
   "outputs": [
    {
     "data": {
      "text/plain": [
       "78     17834.0\n",
       "64      7890.0\n",
       "359      321.0\n",
       "17       221.0\n",
       "467      190.0\n",
       "Name: price, dtype: float64"
      ]
     },
     "execution_count": 59,
     "metadata": {},
     "output_type": "execute_result"
    }
   ],
   "source": [
    "#to check for values greater than 300\n",
    "df[\"price\"].nlargest()"
   ]
  },
  {
   "cell_type": "code",
   "execution_count": 61,
   "id": "cae77c67-97da-4456-8e3b-13d8745b0dd3",
   "metadata": {},
   "outputs": [
    {
     "data": {
      "text/html": [
       "<div>\n",
       "<style scoped>\n",
       "    .dataframe tbody tr th:only-of-type {\n",
       "        vertical-align: middle;\n",
       "    }\n",
       "\n",
       "    .dataframe tbody tr th {\n",
       "        vertical-align: top;\n",
       "    }\n",
       "\n",
       "    .dataframe thead th {\n",
       "        text-align: right;\n",
       "    }\n",
       "</style>\n",
       "<table border=\"1\" class=\"dataframe\">\n",
       "  <thead>\n",
       "    <tr style=\"text-align: right;\">\n",
       "      <th></th>\n",
       "      <th>customerid</th>\n",
       "      <th>productid</th>\n",
       "      <th>quantity</th>\n",
       "      <th>price</th>\n",
       "      <th>transactiondate</th>\n",
       "      <th>paymentmethod</th>\n",
       "      <th>productcategory</th>\n",
       "      <th>discountapplied(%)</th>\n",
       "      <th>monthName</th>\n",
       "      <th>dayName</th>\n",
       "    </tr>\n",
       "  </thead>\n",
       "  <tbody>\n",
       "    <tr>\n",
       "      <th>0</th>\n",
       "      <td>169</td>\n",
       "      <td>B</td>\n",
       "      <td>7.0</td>\n",
       "      <td>76.15</td>\n",
       "      <td>2024-01-31 10:50:00</td>\n",
       "      <td>Cash</td>\n",
       "      <td>Clothing</td>\n",
       "      <td>14.2</td>\n",
       "      <td>January</td>\n",
       "      <td>Wednesday</td>\n",
       "    </tr>\n",
       "    <tr>\n",
       "      <th>1</th>\n",
       "      <td>213</td>\n",
       "      <td>C</td>\n",
       "      <td>4.0</td>\n",
       "      <td>85.59</td>\n",
       "      <td>2023-06-26 21:13:00</td>\n",
       "      <td>Credit Card</td>\n",
       "      <td>Home Decor</td>\n",
       "      <td>0.5</td>\n",
       "      <td>June</td>\n",
       "      <td>Monday</td>\n",
       "    </tr>\n",
       "    <tr>\n",
       "      <th>2</th>\n",
       "      <td>315</td>\n",
       "      <td>C</td>\n",
       "      <td>4.0</td>\n",
       "      <td>94.33</td>\n",
       "      <td>2023-08-18 07:01:00</td>\n",
       "      <td>Cash</td>\n",
       "      <td>Electronics</td>\n",
       "      <td>20.0</td>\n",
       "      <td>August</td>\n",
       "      <td>Friday</td>\n",
       "    </tr>\n",
       "    <tr>\n",
       "      <th>3</th>\n",
       "      <td>442</td>\n",
       "      <td>B</td>\n",
       "      <td>6.0</td>\n",
       "      <td>81.00</td>\n",
       "      <td>2023-08-30 03:37:00</td>\n",
       "      <td>Debit Card</td>\n",
       "      <td>Home Decor</td>\n",
       "      <td>16.0</td>\n",
       "      <td>August</td>\n",
       "      <td>Wednesday</td>\n",
       "    </tr>\n",
       "    <tr>\n",
       "      <th>4</th>\n",
       "      <td>587</td>\n",
       "      <td>B</td>\n",
       "      <td>1.0</td>\n",
       "      <td>45.68</td>\n",
       "      <td>2023-09-14 23:34:00</td>\n",
       "      <td>Credit Card</td>\n",
       "      <td>Home Decor</td>\n",
       "      <td>10.3</td>\n",
       "      <td>September</td>\n",
       "      <td>Thursday</td>\n",
       "    </tr>\n",
       "    <tr>\n",
       "      <th>...</th>\n",
       "      <td>...</td>\n",
       "      <td>...</td>\n",
       "      <td>...</td>\n",
       "      <td>...</td>\n",
       "      <td>...</td>\n",
       "      <td>...</td>\n",
       "      <td>...</td>\n",
       "      <td>...</td>\n",
       "      <td>...</td>\n",
       "      <td>...</td>\n",
       "    </tr>\n",
       "    <tr>\n",
       "      <th>1162</th>\n",
       "      <td>298695</td>\n",
       "      <td>B</td>\n",
       "      <td>1.0</td>\n",
       "      <td>103.24</td>\n",
       "      <td>2023-06-12 15:01:00</td>\n",
       "      <td>PayPal</td>\n",
       "      <td>Electronics</td>\n",
       "      <td>7.9</td>\n",
       "      <td>June</td>\n",
       "      <td>Monday</td>\n",
       "    </tr>\n",
       "    <tr>\n",
       "      <th>1163</th>\n",
       "      <td>298721</td>\n",
       "      <td>A</td>\n",
       "      <td>8.0</td>\n",
       "      <td>43.87</td>\n",
       "      <td>2023-07-21 01:17:00</td>\n",
       "      <td>PayPal</td>\n",
       "      <td>Books</td>\n",
       "      <td>1.3</td>\n",
       "      <td>July</td>\n",
       "      <td>Friday</td>\n",
       "    </tr>\n",
       "    <tr>\n",
       "      <th>1164</th>\n",
       "      <td>298832</td>\n",
       "      <td>B</td>\n",
       "      <td>6.0</td>\n",
       "      <td>57.36</td>\n",
       "      <td>2023-06-22 23:33:00</td>\n",
       "      <td>Debit Card</td>\n",
       "      <td>Books</td>\n",
       "      <td>17.1</td>\n",
       "      <td>June</td>\n",
       "      <td>Thursday</td>\n",
       "    </tr>\n",
       "    <tr>\n",
       "      <th>1165</th>\n",
       "      <td>298848</td>\n",
       "      <td>D</td>\n",
       "      <td>7.0</td>\n",
       "      <td>82.33</td>\n",
       "      <td>2023-06-25 01:30:00</td>\n",
       "      <td>Credit Card</td>\n",
       "      <td>Home Decor</td>\n",
       "      <td>0.8</td>\n",
       "      <td>June</td>\n",
       "      <td>Sunday</td>\n",
       "    </tr>\n",
       "    <tr>\n",
       "      <th>1166</th>\n",
       "      <td>299118</td>\n",
       "      <td>C</td>\n",
       "      <td>7.0</td>\n",
       "      <td>12.56</td>\n",
       "      <td>2023-06-03 02:32:00</td>\n",
       "      <td>Credit Card</td>\n",
       "      <td>Books</td>\n",
       "      <td>3.6</td>\n",
       "      <td>June</td>\n",
       "      <td>Saturday</td>\n",
       "    </tr>\n",
       "  </tbody>\n",
       "</table>\n",
       "<p>1133 rows × 10 columns</p>\n",
       "</div>"
      ],
      "text/plain": [
       "      customerid productid  quantity   price     transactiondate  \\\n",
       "0            169         B       7.0   76.15 2024-01-31 10:50:00   \n",
       "1            213         C       4.0   85.59 2023-06-26 21:13:00   \n",
       "2            315         C       4.0   94.33 2023-08-18 07:01:00   \n",
       "3            442         B       6.0   81.00 2023-08-30 03:37:00   \n",
       "4            587         B       1.0   45.68 2023-09-14 23:34:00   \n",
       "...          ...       ...       ...     ...                 ...   \n",
       "1162      298695         B       1.0  103.24 2023-06-12 15:01:00   \n",
       "1163      298721         A       8.0   43.87 2023-07-21 01:17:00   \n",
       "1164      298832         B       6.0   57.36 2023-06-22 23:33:00   \n",
       "1165      298848         D       7.0   82.33 2023-06-25 01:30:00   \n",
       "1166      299118         C       7.0   12.56 2023-06-03 02:32:00   \n",
       "\n",
       "     paymentmethod productcategory  discountapplied(%)  monthName    dayName  \n",
       "0             Cash        Clothing                14.2    January  Wednesday  \n",
       "1      Credit Card      Home Decor                 0.5       June     Monday  \n",
       "2             Cash     Electronics                20.0     August     Friday  \n",
       "3       Debit Card      Home Decor                16.0     August  Wednesday  \n",
       "4      Credit Card      Home Decor                10.3  September   Thursday  \n",
       "...            ...             ...                 ...        ...        ...  \n",
       "1162        PayPal     Electronics                 7.9       June     Monday  \n",
       "1163        PayPal           Books                 1.3       July     Friday  \n",
       "1164    Debit Card           Books                17.1       June   Thursday  \n",
       "1165   Credit Card      Home Decor                 0.8       June     Sunday  \n",
       "1166   Credit Card           Books                 3.6       June   Saturday  \n",
       "\n",
       "[1133 rows x 10 columns]"
      ]
     },
     "execution_count": 61,
     "metadata": {},
     "output_type": "execute_result"
    }
   ],
   "source": [
    "#to remove values greater than 300\n",
    "df= df.drop([78,64,359],axis = 0)\n",
    "df"
   ]
  },
  {
   "cell_type": "code",
   "execution_count": 63,
   "id": "583d4095-a068-4a29-af3d-fce4e2d72c1f",
   "metadata": {},
   "outputs": [
    {
     "data": {
      "text/plain": [
       "17     221.00\n",
       "467    190.00\n",
       "289    153.89\n",
       "334    153.86\n",
       "246    153.67\n",
       "Name: price, dtype: float64"
      ]
     },
     "execution_count": 63,
     "metadata": {},
     "output_type": "execute_result"
    }
   ],
   "source": [
    "#to check and confirm if all the values are less 300\n",
    "df[\"price\"].nlargest()"
   ]
  },
  {
   "cell_type": "markdown",
   "id": "d086eda2-36b2-422b-885b-f9a7a23d1b72",
   "metadata": {},
   "source": [
    "####  **7. Plot a scatter plot graph to access tha relationship between price and discount, give the graph a title and make the color green** ####"
   ]
  },
  {
   "cell_type": "code",
   "execution_count": 66,
   "id": "881d65ab-bf9e-4c9c-9fd9-df6b519d7777",
   "metadata": {},
   "outputs": [
    {
     "data": {
      "image/png": "[encoded data removed]",
      "text/plain": [
       "<Figure size 800x800 with 1 Axes>"
      ]
     },
     "metadata": {},
     "output_type": "display_data"
    }
   ],
   "source": [
    "#Scatter plot(price vs discount)\n",
    "X= df[\"price\"]\n",
    "Y = df[\"discountapplied(%)\"]\n",
    "plt.figure(figsize =(8,8))\n",
    "#the color is added as green\n",
    "plt.scatter(X, Y, color = \"green\")\n",
    "plt.xlabel(\"Price\")\n",
    "plt.ylabel(\"Discount\")\n",
    "#The title of the graph\n",
    "plt.title(\"Relationship between Price and Discount\")\n",
    "plt.show()"
   ]
  },
  {
   "cell_type": "markdown",
   "id": "2c634e10-8ed0-4d2b-bb11-105a7d12d012",
   "metadata": {},
   "source": [
    "#### **8. For the new months column you created, plot a line chart showing the total quantity for each month. Use a figure size of 8x5.** ####"
   ]
  },
  {
   "cell_type": "code",
   "execution_count": 74,
   "id": "247fe97d-788d-4147-8a07-e52cc8eb5265",
   "metadata": {},
   "outputs": [
    {
     "name": "stdout",
     "output_type": "stream",
     "text": [
      "monthName\n",
      "April        445.0\n",
      "August       395.0\n",
      "December     481.0\n",
      "February     498.0\n",
      "January      515.0\n",
      "July         390.0\n",
      "June         498.0\n",
      "March        472.0\n",
      "May          533.0\n",
      "November     560.0\n",
      "October      456.0\n",
      "September    484.0\n",
      "Name: quantity, dtype: float64\n",
      "Index(['April', 'August', 'December', 'February', 'January', 'July', 'June',\n",
      "       'March', 'May', 'November', 'October', 'September'],\n",
      "      dtype='object', name='monthName')\n"
     ]
    },
    {
     "data": {
      "text/plain": [
       "array([445., 395., 481., 498., 515., 390., 498., 472., 533., 560., 456.,\n",
       "       484.])"
      ]
     },
     "execution_count": 74,
     "metadata": {},
     "output_type": "execute_result"
    }
   ],
   "source": [
    "#use the groupby method to extract the monthName and the quantity\n",
    "df_TotalQuantity = df.groupby(\"monthName\")[\"quantity\"].sum()\n",
    "\n",
    "print(df_TotalQuantity)\n",
    "\n",
    "#to extract the index and values so that it can be use to plot\n",
    "months=df_TotalQuantity.index\n",
    "print(months)\n",
    "\n",
    "TotalQuantity =df_TotalQuantity.values\n",
    "TotalQuantity"
   ]
  },
  {
   "cell_type": "code",
   "execution_count": 108,
   "id": "cf4aa137-052a-4a64-a021-a0d8db0b0426",
   "metadata": {},
   "outputs": [
    {
     "data": {
      "image/png": "[encoded data removed]",
      "text/plain": [
       "<Figure size 800x500 with 1 Axes>"
      ]
     },
     "metadata": {},
     "output_type": "display_data"
    }
   ],
   "source": [
    "#using figsize of 8*5\n",
    "plt.figure(figsize=(8,5))\n",
    "plt.plot(months,TotalQuantity,color = \"black\",linewidth = 2, markersize = 12, marker =\"o\")\n",
    "plt.xlabel(\"Month\")\n",
    "plt.ylabel(\"Total Quantity\")\n",
    "plt.title(\"Total Quantity Sold per Month\")\n",
    "plt.xticks(rotation = 90)\n",
    "plt.grid(True)\n",
    "plt.show()"
   ]
  },
  {
   "cell_type": "markdown",
   "id": "4eaf7cf0-c643-4ed6-863b-0032fd1bdbbb",
   "metadata": {},
   "source": [
    "#### **9. Also for the days column you created, plot a bar chart showing the average price for each day** ####"
   ]
  },
  {
   "cell_type": "code",
   "execution_count": 81,
   "id": "1f501bab-2cc0-4cd5-88a4-71e105e7474a",
   "metadata": {},
   "outputs": [
    {
     "data": {
      "text/html": [
       "<div>\n",
       "<style scoped>\n",
       "    .dataframe tbody tr th:only-of-type {\n",
       "        vertical-align: middle;\n",
       "    }\n",
       "\n",
       "    .dataframe tbody tr th {\n",
       "        vertical-align: top;\n",
       "    }\n",
       "\n",
       "    .dataframe thead th {\n",
       "        text-align: right;\n",
       "    }\n",
       "</style>\n",
       "<table border=\"1\" class=\"dataframe\">\n",
       "  <thead>\n",
       "    <tr style=\"text-align: right;\">\n",
       "      <th></th>\n",
       "      <th>dayName</th>\n",
       "      <th>price</th>\n",
       "    </tr>\n",
       "  </thead>\n",
       "  <tbody>\n",
       "    <tr>\n",
       "      <th>0</th>\n",
       "      <td>Thursday</td>\n",
       "      <td>78.58</td>\n",
       "    </tr>\n",
       "    <tr>\n",
       "      <th>1</th>\n",
       "      <td>Saturday</td>\n",
       "      <td>76.89</td>\n",
       "    </tr>\n",
       "    <tr>\n",
       "      <th>2</th>\n",
       "      <td>Monday</td>\n",
       "      <td>74.52</td>\n",
       "    </tr>\n",
       "    <tr>\n",
       "      <th>3</th>\n",
       "      <td>Sunday</td>\n",
       "      <td>73.65</td>\n",
       "    </tr>\n",
       "    <tr>\n",
       "      <th>4</th>\n",
       "      <td>Wednesday</td>\n",
       "      <td>69.96</td>\n",
       "    </tr>\n",
       "    <tr>\n",
       "      <th>5</th>\n",
       "      <td>Tuesday</td>\n",
       "      <td>68.35</td>\n",
       "    </tr>\n",
       "    <tr>\n",
       "      <th>6</th>\n",
       "      <td>Friday</td>\n",
       "      <td>67.69</td>\n",
       "    </tr>\n",
       "  </tbody>\n",
       "</table>\n",
       "</div>"
      ],
      "text/plain": [
       "     dayName  price\n",
       "0   Thursday  78.58\n",
       "1   Saturday  76.89\n",
       "2     Monday  74.52\n",
       "3     Sunday  73.65\n",
       "4  Wednesday  69.96\n",
       "5    Tuesday  68.35\n",
       "6     Friday  67.69"
      ]
     },
     "execution_count": 81,
     "metadata": {},
     "output_type": "execute_result"
    }
   ],
   "source": [
    "#Using the reset-index to set it to it default index and change it from series to a dataframe\n",
    "df_AveragePrice = round(df.groupby(\"dayName\")[\"price\"].mean().sort_values(ascending = False).reset_index(),2)\n",
    "df_AveragePrice"
   ]
  },
  {
   "cell_type": "code",
   "execution_count": 85,
   "id": "0ada3b5c-3643-4bd6-8774-ce8f72d75749",
   "metadata": {},
   "outputs": [
    {
     "name": "stdout",
     "output_type": "stream",
     "text": [
      "0     Thursday\n",
      "1     Saturday\n",
      "2       Monday\n",
      "3       Sunday\n",
      "4    Wednesday\n",
      "5      Tuesday\n",
      "6       Friday\n",
      "Name: dayName, dtype: object\n",
      "0    78.58\n",
      "1    76.89\n",
      "2    74.52\n",
      "3    73.65\n",
      "4    69.96\n",
      "5    68.35\n",
      "6    67.69\n",
      "Name: price, dtype: float64\n"
     ]
    }
   ],
   "source": [
    "#to seperate the index from values\n",
    "day =df_AveragePrice[\"dayName\"]\n",
    "print(day)\n",
    "\n",
    "averagePrice = df_AveragePrice[\"price\"]\n",
    "print(averagePrice)"
   ]
  },
  {
   "cell_type": "code",
   "execution_count": 87,
   "id": "c073af07-4a57-47d7-9146-f1d0cf4a6fa0",
   "metadata": {},
   "outputs": [
    {
     "data": {
      "image/png": "[encoded data removed]",
      "text/plain": [
       "<Figure size 800x500 with 1 Axes>"
      ]
     },
     "metadata": {},
     "output_type": "display_data"
    }
   ],
   "source": [
    "#Figsize is the size of the canvas that the plot will be displayed on\n",
    "plt.figure(figsize=(8,5))\n",
    "plt.bar(day, height = averagePrice,color = \"skyblue\",linewidth = 1,edgecolor=\"black\")\n",
    "plt.xlabel(\"Day\")\n",
    "plt.ylabel(\"Average Price\")\n",
    "plt.title(\"Average Price per day\")\n",
    "plt.xticks(rotation = 90)\n",
    "plt.grid(True)\n",
    "plt.show()"
   ]
  },
  {
   "cell_type": "markdown",
   "id": "a45261ac-65da-4c50-99c5-44a2d7aff088",
   "metadata": {},
   "source": [
    "#### **10. Which of the product category has the highest quantity sold? represent it in a pie chart** ####\n",
    "#### **Use a figure size of7x7** ####"
   ]
  },
  {
   "cell_type": "code",
   "execution_count": 91,
   "id": "32be3205-f587-4929-9a5b-d6e92344956a",
   "metadata": {},
   "outputs": [
    {
     "data": {
      "text/plain": [
       "productcategory\n",
       "Electronics    2017.0\n",
       "Books          1941.0\n",
       "Home Decor     1387.0\n",
       "Clothing        382.0\n",
       "Name: quantity, dtype: float64"
      ]
     },
     "execution_count": 91,
     "metadata": {},
     "output_type": "execute_result"
    }
   ],
   "source": [
    "#using the productcategory and the quantity to get the highest sold and using groupby to extract the productcategory and the quantity\n",
    "df_HighestCat = df.groupby(\"productcategory\")[\"quantity\"].sum().sort_values(ascending = False)\n",
    "df_HighestCat"
   ]
  },
  {
   "cell_type": "code",
   "execution_count": 95,
   "id": "ae837c2d-e188-4ba9-949c-0ef03f72cbf2",
   "metadata": {},
   "outputs": [
    {
     "name": "stdout",
     "output_type": "stream",
     "text": [
      "Index(['Electronics', 'Books', 'Home Decor', 'Clothing'], dtype='object', name='productcategory')\n",
      "[2017. 1941. 1387.  382.]\n"
     ]
    }
   ],
   "source": [
    "#To extract the index and values\n",
    "Category = df_HighestCat.index\n",
    "print(Category)\n",
    "\n",
    "QuantitySum = df_HighestCat.values\n",
    "print(QuantitySum)"
   ]
  },
  {
   "cell_type": "code",
   "execution_count": 97,
   "id": "4f116334-799a-40ab-93e8-2565008e2ecc",
   "metadata": {},
   "outputs": [
    {
     "data": {
      "image/png": "[encoded data removed]",
      "text/plain": [
       "<Figure size 700x700 with 1 Axes>"
      ]
     },
     "metadata": {},
     "output_type": "display_data"
    }
   ],
   "source": [
    "#Using a Pie chart with figSize 7*7\n",
    "explode = [0.02,0.02,0.02,0.02]\n",
    "plt.figure(figsize =(7,7))\n",
    "plt.pie(QuantitySum,labels = Category, autopct =\"%1.1f%%\", explode = explode)\n",
    "plt.title(\"Product Category by Quantity\")\n",
    "plt.show()"
   ]
  },
  {
   "cell_type": "code",
   "execution_count": null,
   "id": "e5d8a5f4-4053-4e62-b5c9-c4bc9e73eff5",
   "metadata": {},
   "outputs": [],
   "source": []
  }
 ],
 "metadata": {
  "kernelspec": {
   "display_name": "Python [conda env:base] *",
   "language": "python",
   "name": "conda-base-py"
  },
  "language_info": {
   "codemirror_mode": {
    "name": "ipython",
    "version": 3
   },
   "file_extension": ".py",
   "mimetype": "text/x-python",
   "name": "python",
   "nbconvert_exporter": "python",
   "pygments_lexer": "ipython3",
   "version": "3.12.7"
  }
 },
 "nbformat": 4,
 "nbformat_minor": 5
}
